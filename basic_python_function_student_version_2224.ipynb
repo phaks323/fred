{
  "nbformat": 4,
  "nbformat_minor": 0,
  "metadata": {
    "kernelspec": {
      "display_name": "Python 3",
      "language": "python",
      "name": "python3"
    },
    "language_info": {
      "codemirror_mode": {
        "name": "ipython",
        "version": 3
      },
      "file_extension": ".py",
      "mimetype": "text/x-python",
      "name": "python",
      "nbconvert_exporter": "python",
      "pygments_lexer": "ipython3",
      "version": "3.7.3"
    },
    "colab": {
      "name": "basic_python_function_student_version-2224.ipynb",
      "provenance": [],
      "include_colab_link": true
    }
  },
  "cells": [
    {
      "cell_type": "markdown",
      "metadata": {
        "id": "view-in-github",
        "colab_type": "text"
      },
      "source": [
        "<a href=\"https://colab.research.google.com/github/phaks323/fred/blob/master/basic_python_function_student_version_2224.ipynb\" target=\"_parent\"><img src=\"https://colab.research.google.com/assets/colab-badge.svg\" alt=\"Open In Colab\"/></a>"
      ]
    },
    {
      "cell_type": "markdown",
      "metadata": {
        "id": "2ZqOPPHHCFDr"
      },
      "source": [
        "# Basic Python Functions\n",
        "\n",
        "## Instructions to Students\n",
        "- **Do not add or remove cells in this notebook. Do not edit or remove the `### START FUNCTION` or `### END FUNCTION` comments. Do not add any code outside of the functions you are required to edit. Doing any of this will lead to a mark of 0%!**\n",
        "- Answer the questions according to the specifications provided.\n",
        "- Use the given cell in each question to to see if your function matches the expected outputs.\n",
        "- Do not hard-code answers to the questions.\n",
        "- The use of stackoverflow, google, and other online tools are permitted. However, copying fellow student's code is not permissible and is considered a breach of the Honour code below. Doing this will result in a mark of 0%.\n",
        "- Good luck, and may the force be with you!\n",
        "\n",
        "## Honour Code\n",
        "\n",
        "I **YOUR NAME, YOUR SURNAME**, confirm - by submitting this document - that the solutions in this notebook are a result of my own work and that I abide by the   <a href=\"https://drive.google.com/open?id=1FXCIf425JLRx3JQi-ltSWppj8BCF3Np1\" target=\"_blank\">EDSA Student Manifesto</a>.\n",
        "\n",
        "Non-compliance with the honour code constitutes a material breach of contract.\n",
        "\n",
        "## Challenge 1\n",
        "A list of strings is passed through to the _`combine`_ function. Your task is to write the code which would return these strings combined into one sentence.\n",
        "\n",
        "For example: \n",
        "\n",
        "`>>> combine(['Let's ', 'do ', 'this!'])`\n",
        "\n",
        "`'Let's do this!'` "
      ]
    },
    {
      "cell_type": "code",
      "metadata": {
        "id": "i2-I_38GCFEM"
      },
      "source": [
        "### START FUNCTION\n",
        "def combine(words):\n",
        "    words2 = words[0] + words[1] + words[2] + words[3] + words[4] + words[5] + words[6] + words[7]\n",
        "    return words2\n",
        "### END FUNCTION"
      ],
      "execution_count": 1,
      "outputs": []
    },
    {
      "cell_type": "markdown",
      "metadata": {
        "id": "FD87owoHCFEZ"
      },
      "source": [
        "You may upload your attempted solution to the Autograder as many times as you wish. In this sense, you could consider the Autograder not only as a marking program, but also to be a useful ally which can help check the correctness of your work - pointing out which questions may still need further effort on your part.\n",
        "\n",
        "Use the code block below to help test the correctness of the function you've developed. If the following statement returns `True`, then your solution may be working."
      ]
    },
    {
      "cell_type": "code",
      "metadata": {
        "colab": {
          "base_uri": "https://localhost:8080/"
        },
        "id": "sPzuGmqDCFEc",
        "outputId": "4c5a736c-6150-4608-a719-114a5b06cd62"
      },
      "source": [
        "combine(['Hello',', ','how',' ','are',' ','you','?']) == 'Hello, how are you?'"
      ],
      "execution_count": 2,
      "outputs": [
        {
          "output_type": "execute_result",
          "data": {
            "text/plain": [
              "True"
            ]
          },
          "metadata": {
            "tags": []
          },
          "execution_count": 2
        }
      ]
    },
    {
      "cell_type": "markdown",
      "metadata": {
        "id": "UK_z5Jv5CFEh"
      },
      "source": [
        "**Expected Outputs:**\n",
        "```python\n",
        "combine(['Hello',', ','how',' ','are',' ','you','?']) == 'Hello, how are you?'\n",
        "combine(['I ','can ','code',' in ','Python!']) == 'I can code in Python!'\n",
        "```"
      ]
    },
    {
      "cell_type": "markdown",
      "metadata": {
        "id": "tzCeHbFhCFEk"
      },
      "source": [
        "## Challenge 2\n",
        "In this task, we seek to perform the opposite operation from Challenge 1. A string is passed through to the _`separate`_ function. Your task is to write the code which will split the sentence into words, along each space character (\" \"), and return a list of strings.\n",
        "\n",
        "For example: \n",
        "\n",
        "`>>> separate('Let's do this!')`\n",
        "\n",
        "`['Let's', 'do', 'this!']` "
      ]
    },
    {
      "cell_type": "code",
      "metadata": {
        "id": "JG5ek7LBCFEl"
      },
      "source": [
        "### START FUNCTION\n",
        "def separate(sentence):\n",
        "    sentence_2 = sentence.split()\n",
        "    return sentence_2\n",
        "### END FUNCTION"
      ],
      "execution_count": 3,
      "outputs": []
    },
    {
      "cell_type": "code",
      "metadata": {
        "colab": {
          "base_uri": "https://localhost:8080/"
        },
        "id": "Of5Q-xwxCFEn",
        "outputId": "26de51e5-6c20-47f7-8344-cbc444166afd"
      },
      "source": [
        "separate('Hello, how are you?') == ['Hello,', 'how', 'are', 'you?']"
      ],
      "execution_count": 4,
      "outputs": [
        {
          "output_type": "execute_result",
          "data": {
            "text/plain": [
              "True"
            ]
          },
          "metadata": {
            "tags": []
          },
          "execution_count": 4
        }
      ]
    },
    {
      "cell_type": "markdown",
      "metadata": {
        "id": "bERbZWRtCFEo"
      },
      "source": [
        "**Expected Outputs:**\n",
        "```python\n",
        "separate('Hello, how are you?') == ['Hello,', 'how', 'are', 'you?']\n",
        "separate('I can code in Python!') == ['I', 'can', 'code', 'in', 'Python!']\n",
        "```"
      ]
    },
    {
      "cell_type": "markdown",
      "metadata": {
        "id": "BBCgtL8ZCFEq"
      },
      "source": [
        "## Challenge 3\n",
        "\n",
        "Similar to the previous task, write a function called _`edit`_ which takes a string sentence as input, capitalises each letter of the string, and splits this sentence into words along each space character (\" \"). The resulting strings need to be returned as a list, where each string must be in **UPPERCASE** letters.  \n",
        "\n",
        "For example: \n",
        "\n",
        "`>>> edit('Let's do this!')`\n",
        "\n",
        "`['LET'S', 'DO', 'THIS!']` "
      ]
    },
    {
      "cell_type": "code",
      "metadata": {
        "id": "y_7burWMCFEs"
      },
      "source": [
        "### START FUNCTION\n",
        "def edit(sentence):\n",
        "    sentence_2 = sentence.upper()\n",
        "    sentence_2 = sentence_2.split()\n",
        "    return sentence_2\n",
        "### END FUNCTION"
      ],
      "execution_count": 5,
      "outputs": []
    },
    {
      "cell_type": "code",
      "metadata": {
        "colab": {
          "base_uri": "https://localhost:8080/"
        },
        "id": "y1b4AppiCFEt",
        "outputId": "5fabc2da-a962-4250-d31d-d3e86b23c05f"
      },
      "source": [
        "edit('Hello, how are you?') == ['HELLO,', 'HOW', 'ARE', 'YOU?']"
      ],
      "execution_count": 6,
      "outputs": [
        {
          "output_type": "execute_result",
          "data": {
            "text/plain": [
              "True"
            ]
          },
          "metadata": {
            "tags": []
          },
          "execution_count": 6
        }
      ]
    },
    {
      "cell_type": "markdown",
      "metadata": {
        "id": "Jb1jQe78CFEv"
      },
      "source": [
        "**Expected Outputs:**\n",
        "```python\n",
        "edit('Hello, how are you?') == ['HELLO,', 'HOW', 'ARE', 'YOU?']\n",
        "edit('I can code in Python!') == ['I', 'CAN', 'CODE', 'IN', 'PYTHON!']\n",
        "```"
      ]
    },
    {
      "cell_type": "code",
      "metadata": {
        "id": "z8mdAEToCFEw"
      },
      "source": [
        ""
      ],
      "execution_count": 6,
      "outputs": []
    },
    {
      "cell_type": "code",
      "metadata": {
        "id": "M06R58P3CFEx"
      },
      "source": [
        ""
      ],
      "execution_count": 6,
      "outputs": []
    },
    {
      "cell_type": "code",
      "metadata": {
        "id": "C-4K25EECFEy"
      },
      "source": [
        "\n"
      ],
      "execution_count": 6,
      "outputs": []
    }
  ]
}